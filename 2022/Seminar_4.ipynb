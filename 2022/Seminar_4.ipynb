{
 "cells": [
  {
   "cell_type": "code",
   "execution_count": 1,
   "metadata": {},
   "outputs": [],
   "source": [
    "%matplotlib ipympl\n",
    "def figure(name, nrows=1, ncols=1, *args, **kwargs):\n",
    "    plt.close(name)\n",
    "    return plt.subplots(nrows, ncols, num=name, *args, **kwargs)\n",
    "\n",
    "import numpy as np\n",
    "import pylab as plt\n",
    "plt.style.use('default')"
   ]
  },
  {
   "cell_type": "code",
   "execution_count": 2,
   "metadata": {},
   "outputs": [],
   "source": [
    "from numpy import tan, cos, sin, pi\n",
    "from ipywidgets import FloatSlider, HBox, IntSlider"
   ]
  },
  {
   "cell_type": "code",
   "execution_count": 3,
   "metadata": {},
   "outputs": [],
   "source": [
    "def draw_prism(ax, eps):\n",
    "    ax.set_xlim([-2, 2])\n",
    "    ax.set_ylim([-2, 2])\n",
    "    ax.set_aspect('equal')\n",
    "\n",
    "    ax.plot([0, 2*np.tan(eps/2)], [1, -1], 'k-')\n",
    "    ax.plot([0, -2*np.tan(eps/2)], [1, -1], 'k-')\n",
    "    ax.plot([-2*np.tan(eps/2), 2*np.tan(eps/2)], [-1, -1], 'k-')\n",
    "    \n",
    "def draw_r1(ax, eps, a1):\n",
    "    # p1 = [-tan(eps/2), 0]\n",
    "    ax.plot([-tan(eps/2)-1, -tan(eps/2)], [tan(eps/2-a1), 0], 'k-')\n",
    "    \n",
    "def draw_r2(ax, eps, a1, n):\n",
    "    # p1 = [-tan(eps/2), 0]\n",
    "    b1 = np.arcsin(sin(a1)/n) -eps/2\n",
    "    ax.plot([-tan(eps/2), -tan(eps/2) + 1], [0, tan(b1)], 'k-')\n",
    "    \n",
    "def get_delta(eps, n):\n",
    "    a1 = np.linspace(-np.pi/4, np.pi/2, 100)\n",
    "    b1 = np.arcsin(sin(a1)/n) - eps/2\n",
    "    t = tan(eps/2)\n",
    "    b2 = eps - np.arcsin(sin(a1)/n)\n",
    "    a2 = np.arcsin(n*sin(b2)) \n",
    "    return a1/np.pi*180, (a1 + a2 - eps)/np.pi*180"
   ]
  },
  {
   "cell_type": "code",
   "execution_count": 4,
   "metadata": {},
   "outputs": [
    {
     "data": {
      "application/vnd.jupyter.widget-view+json": {
       "model_id": "beb4233035bd4f56adae11a3047185f6",
       "version_major": 2,
       "version_minor": 0
      },
      "text/plain": [
       "Canvas(toolbar=Toolbar(toolitems=[('Home', 'Reset original view', 'home', 'home'), ('Back', 'Back to previous …"
      ]
     },
     "metadata": {},
     "output_type": "display_data"
    }
   ],
   "source": [
    "fig, ax = figure('prism', 1, 1)\n",
    "draw_prism(ax, np.pi/4)\n",
    "draw_r1(ax, np.pi/4, np.pi/8)\n",
    "draw_r2(ax, np.pi/4, np.pi/8, 1.3)"
   ]
  },
  {
   "cell_type": "code",
   "execution_count": 7,
   "metadata": {},
   "outputs": [
    {
     "data": {
      "application/vnd.jupyter.widget-view+json": {
       "model_id": "1fe5143f3e3b4b648b602260b6e788b2",
       "version_major": 2,
       "version_minor": 0
      },
      "text/plain": [
       "Canvas(toolbar=Toolbar(toolitems=[('Home', 'Reset original view', 'home', 'home'), ('Back', 'Back to previous …"
      ]
     },
     "metadata": {},
     "output_type": "display_data"
    },
    {
     "name": "stderr",
     "output_type": "stream",
     "text": [
      "/Users/thomaslettau/opt/anaconda3/envs/tm/lib/python3.7/site-packages/ipykernel_launcher.py:24: RuntimeWarning: invalid value encountered in arcsin\n"
     ]
    },
    {
     "data": {
      "application/vnd.jupyter.widget-view+json": {
       "model_id": "b06fd4c4990641c48d008919850d4895",
       "version_major": 2,
       "version_minor": 0
      },
      "text/plain": [
       "HBox(children=(FloatSlider(value=60.0, description='eps: ', max=90.0, step=1.0), FloatSlider(value=45.0, descr…"
      ]
     },
     "metadata": {},
     "output_type": "display_data"
    }
   ],
   "source": [
    "def get_slider():\n",
    "    Es  = FloatSlider(orientation='horizontal', description='eps: ', value=60, min=0, max=90, step=1)\n",
    "    A1s = FloatSlider(orientation='horizontal', description='a1: ', value=45, min=-90, max=90, step=0.5)\n",
    "    Ns = FloatSlider(orientation='horizontal', description='n: ', value=1.5, min=1, max=2)\n",
    "\n",
    "    eps = Es.value / 180 * pi\n",
    "    a1 = A1s.value / 180* pi\n",
    "    n = Ns.value\n",
    "    b1 = np.arcsin(sin(a1)/n) - eps/2\n",
    "    t = tan(eps/2)\n",
    "    sc = 2*t/(t*tan(b1) + 1)\n",
    "    b2 = eps - np.arcsin(sin(a1)/n)\n",
    "    a2 = eps/2 - np.arcsin(n*sin(b2)) \n",
    "    \n",
    "    fig, axs = figure('prism-i', 1, 2, figsize=(10, 5))\n",
    "    ax, ay = axs\n",
    "    ax.set_xlim([-2, 2])\n",
    "    ax.set_ylim([-2, 2])\n",
    "    ax.set_aspect('equal')\n",
    "    ax.axis('off')\n",
    "    ay.set_ylabel('delta')\n",
    "    ay.set_xlabel('alpha1')\n",
    "        \n",
    "    lines = []\n",
    "    lines.append(ax.plot([0, 2*t], [1, -1], color='#ADD8E6')[0])\n",
    "    lines.append(ax.plot([0, -2*t], [1, -1], color='#ADD8E6')[0])\n",
    "    lines.append(ax.plot([-2*t, 2*t], [-1, -1], color='#ADD8E6')[0])\n",
    "    \n",
    "    lines.append(ax.plot([-t-1, -t], [tan(eps/2-a1), 0], 'k-')[0])\n",
    "    lines.append(ax.plot([-t, -t + sc], [0, sc*tan(b1)], 'k-')[0])\n",
    "    lines.append(ax.plot([-t + sc, -t + sc + 1], [sc*tan(b1), sc*tan(b1) + tan(a2)], 'k-')[0])\n",
    "    lines.append(ay.plot(*get_delta(eps, n))[0])\n",
    "    lines.append(ay.plot([a1/np.pi*180], [(a1 - a2 - eps/2)/np.pi*180], 'ko')[0])\n",
    "    \n",
    "    def redraw(change):\n",
    "        eps = Es.value / 180 * pi\n",
    "        a1 = A1s.value / 180* pi\n",
    "        n = Ns.value\n",
    "        b1 = np.arcsin(sin(a1)/n) - eps/2\n",
    "        t = tan(eps/2)\n",
    "        sc = 2*t/(t*tan(b1) + 1)\n",
    "        b2 = eps - np.arcsin(sin(a1)/n)\n",
    "        if n*sin(b2) <= 1:\n",
    "            a2 = eps/2 - np.arcsin(n*sin(b2)) \n",
    "        else:\n",
    "            a2 = False\n",
    "        \n",
    "        lines[0].set_data([0, 2*t], [1, -1])\n",
    "        lines[1].set_data([0, -2*t], [1, -1])\n",
    "        lines[2].set_data([-2*t, 2*t], [-1, -1])\n",
    "        lines[3].set_data([-t-1, -t], [tan(eps/2-a1), 0])\n",
    "        lines[4].set_data([-t, -t + sc], [0, sc*tan(b1)])                 \n",
    "        if a2:\n",
    "            lines[5].set_data([-t + sc, -t + sc + 1], [sc*tan(b1), sc*tan(b1) + tan(a2)])\n",
    "        else:\n",
    "            lines[5].set_data([0, 0], [0, 0])\n",
    "        lines[6].set_data(*get_delta(eps, n))\n",
    "        lines[7].set_data([a1/np.pi*180], [(a1 - a2 - eps/2)/np.pi*180])\n",
    "        ay.relim()\n",
    "        ay.autoscale_view()\n",
    "        fig.canvas.draw()\n",
    "        fig.canvas.flush_events()\n",
    "\n",
    "\n",
    "    Es.observe(redraw, names='value')\n",
    "    A1s.observe(redraw, names='value')\n",
    "    Ns.observe(redraw, names='value')\n",
    "    return HBox([Es, A1s, Ns])\n",
    "\n",
    "\n",
    "get_slider()"
   ]
  },
  {
   "cell_type": "code",
   "execution_count": null,
   "metadata": {},
   "outputs": [],
   "source": []
  },
  {
   "cell_type": "code",
   "execution_count": null,
   "metadata": {},
   "outputs": [],
   "source": []
  }
 ],
 "metadata": {
  "kernelspec": {
   "display_name": "Python 3",
   "language": "python",
   "name": "python3"
  },
  "language_info": {
   "codemirror_mode": {
    "name": "ipython",
    "version": 3
   },
   "file_extension": ".py",
   "mimetype": "text/x-python",
   "name": "python",
   "nbconvert_exporter": "python",
   "pygments_lexer": "ipython3",
   "version": "3.7.9"
  }
 },
 "nbformat": 4,
 "nbformat_minor": 5
}
