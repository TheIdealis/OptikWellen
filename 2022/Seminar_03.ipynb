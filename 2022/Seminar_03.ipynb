{
 "cells": [
  {
   "cell_type": "code",
   "execution_count": 1,
   "id": "a1f9675f",
   "metadata": {},
   "outputs": [],
   "source": [
    "%matplotlib ipympl\n",
    "def figure(name, nrows=1, ncols=1, *args, **kwargs):\n",
    "    plt.close(name)\n",
    "    return plt.subplots(nrows, ncols, num=name, *args, **kwargs)\n",
    "\n",
    "import numpy as np\n",
    "import pylab as plt\n",
    "plt.style.use('default')"
   ]
  },
  {
   "cell_type": "code",
   "execution_count": 2,
   "id": "8e266b8e",
   "metadata": {},
   "outputs": [],
   "source": [
    "from ipywidgets import FloatSlider, HBox, IntSlider\n",
    "na = np.newaxis\n",
    "from scipy.fftpack import fft, fftfreq, fftshift, ifft, ifftshift"
   ]
  },
  {
   "cell_type": "code",
   "execution_count": 3,
   "id": "ea6d8b2e",
   "metadata": {},
   "outputs": [],
   "source": [
    "N = 50000\n",
    "T0 = 3\n",
    "t1 = np.linspace(0, 50, N)\n",
    "t2 = np.linspace(-300, 300, N)\n",
    "t3 = np.linspace(-100, 100, N)\n",
    "\n",
    "f1 = np.zeros(N)\n",
    "f1[t1>=0] = np.exp(-t1[t1>=0]/T0)\n",
    "f2 = 1/(t2/T0 + 1j)\n",
    "f3 = 1/(t3**2/T0**2 + 1)"
   ]
  },
  {
   "cell_type": "code",
   "execution_count": 6,
   "id": "779450ff",
   "metadata": {},
   "outputs": [
    {
     "data": {
      "application/vnd.jupyter.widget-view+json": {
       "model_id": "f979014bbbde485e9fcbb266234f17ed",
       "version_major": 2,
       "version_minor": 0
      },
      "text/plain": [
       "Canvas(toolbar=Toolbar(toolitems=[('Home', 'Reset original view', 'home', 'home'), ('Back', 'Back to previous …"
      ]
     },
     "metadata": {},
     "output_type": "display_data"
    },
    {
     "data": {
      "text/plain": [
       "<matplotlib.legend.Legend at 0x7fb0d9675d10>"
      ]
     },
     "execution_count": 6,
     "metadata": {},
     "output_type": "execute_result"
    }
   ],
   "source": [
    "fig, ax = figure('f1, f2, f3', 1, 3, figsize=(10, 5))\n",
    "ax[0].plot(t1, f1)\n",
    "ax[1].plot(t2, f2.real, label='real')\n",
    "ax[1].plot(t2, f2.imag, label='imag')\n",
    "ax[2].plot(t3, f3)\n",
    "ax[1].legend()"
   ]
  },
  {
   "cell_type": "code",
   "execution_count": 7,
   "id": "68755abd",
   "metadata": {},
   "outputs": [],
   "source": [
    "w1 = 2*np.pi*fftshift(fftfreq(N, d=t1[1]-t1[0]))\n",
    "w2 = 2*np.pi*fftshift(fftfreq(N, d=t2[1]-t2[0]))\n",
    "w3 = 2*np.pi*fftshift(fftfreq(N, d=t3[1]-t3[0]))\n",
    "g1 = fftshift(fft(f1))/N*(t1[-1]-t1[0]) #* np.exp(1j*np.pi*w1/(w1[1]-w1[0]))\n",
    "g2 = fftshift(fft(f2))/N*(t2[-1]-t2[0]) * np.exp(1j*np.pi*w2/(w2[1]-w2[0]))\n",
    "g3 = fftshift(fft(f3))/N*(t3[-1]-t3[0]) * np.exp(1j*np.pi*w3/(w3[1]-w3[0]))"
   ]
  },
  {
   "cell_type": "code",
   "execution_count": 8,
   "id": "cce642f6",
   "metadata": {},
   "outputs": [
    {
     "data": {
      "application/vnd.jupyter.widget-view+json": {
       "model_id": "99246ae8bb034b0199dbbdf2a7060ae3",
       "version_major": 2,
       "version_minor": 0
      },
      "text/plain": [
       "Canvas(toolbar=Toolbar(toolitems=[('Home', 'Reset original view', 'home', 'home'), ('Back', 'Back to previous …"
      ]
     },
     "metadata": {},
     "output_type": "display_data"
    }
   ],
   "source": [
    "fig, ax = figure('g1, g2, g3', 1, 3, figsize=(15, 5))\n",
    "ax[0].plot(w1, g1.real)\n",
    "ax[0].plot(w1, g1.imag)\n",
    "ax[0].plot(w1, abs(g1), 'k--')\n",
    "ax[1].plot(w2, g2.real)\n",
    "ax[1].plot(w2, g2.imag)\n",
    "ax[1].plot(w2, abs(g2), 'k--')\n",
    "ax[2].plot(w3, g3.real)\n",
    "ax[2].plot(w3, g3.imag)\n",
    "ax[2].plot(w3, abs(g3), 'k--')\n",
    "\n",
    "for i in range(3):\n",
    "    ax[i].set_xlim([-20, 20])"
   ]
  },
  {
   "cell_type": "markdown",
   "id": "c58486b9",
   "metadata": {},
   "source": [
    "# G1 - analytical"
   ]
  },
  {
   "cell_type": "code",
   "execution_count": 9,
   "id": "b528f348",
   "metadata": {},
   "outputs": [],
   "source": [
    "g1a = 1/(1/T0 + 1j*w1)"
   ]
  },
  {
   "cell_type": "code",
   "execution_count": 11,
   "id": "9ce02600",
   "metadata": {
    "tags": []
   },
   "outputs": [
    {
     "data": {
      "application/vnd.jupyter.widget-view+json": {
       "model_id": "8710e3913442474d92dafe9d24731098",
       "version_major": 2,
       "version_minor": 0
      },
      "text/plain": [
       "Canvas(toolbar=Toolbar(toolitems=[('Home', 'Reset original view', 'home', 'home'), ('Back', 'Back to previous …"
      ]
     },
     "metadata": {},
     "output_type": "display_data"
    }
   ],
   "source": [
    "fig, ax = figure('f1, g1', 1, 2, figsize=(10, 5))\n",
    "\n",
    "ax[0].plot(w1, g1.real)\n",
    "ax[0].plot(w1, g1a.real, 'k--')\n",
    "\n",
    "ax[1].plot(w1, g1.imag)\n",
    "ax[1].plot(w1, g1a.imag, 'k--')\n",
    "\n",
    "for i in range(2):\n",
    "    ax[i].set_xlim([-20, 20])"
   ]
  },
  {
   "cell_type": "code",
   "execution_count": null,
   "id": "ef75eb1c",
   "metadata": {},
   "outputs": [],
   "source": []
  },
  {
   "cell_type": "markdown",
   "id": "1d7ae1a3",
   "metadata": {},
   "source": [
    "# G2 - analytical"
   ]
  },
  {
   "cell_type": "code",
   "execution_count": 12,
   "id": "44e6b670",
   "metadata": {},
   "outputs": [],
   "source": [
    "g2a = np.zeros(N, dtype=np.complex128)\n",
    "g2a[w2>=0] = -1j*T0 * np.exp(-T0*w2[w2>=0])*2*np.pi"
   ]
  },
  {
   "cell_type": "code",
   "execution_count": 14,
   "id": "1eccbdca",
   "metadata": {
    "tags": []
   },
   "outputs": [
    {
     "data": {
      "application/vnd.jupyter.widget-view+json": {
       "model_id": "ee170e2fa39e41a9ba511eb45f22c2ab",
       "version_major": 2,
       "version_minor": 0
      },
      "text/plain": [
       "Canvas(toolbar=Toolbar(toolitems=[('Home', 'Reset original view', 'home', 'home'), ('Back', 'Back to previous …"
      ]
     },
     "metadata": {},
     "output_type": "display_data"
    }
   ],
   "source": [
    "fig, ax = figure('f2, g2', 1, 2, figsize=(10, 5))\n",
    "\n",
    "ax[0].plot(w2, g2.real)\n",
    "ax[0].plot(w2, g2a.real, 'k--')\n",
    "\n",
    "ax[1].plot(w2, g2.imag)\n",
    "ax[1].plot(w2, g2a.imag, 'k--')\n",
    "\n",
    "for i in range(2):\n",
    "    ax[i].set_xlim([-20, 20])"
   ]
  },
  {
   "cell_type": "code",
   "execution_count": null,
   "id": "943aae70",
   "metadata": {},
   "outputs": [],
   "source": []
  },
  {
   "cell_type": "markdown",
   "id": "37031e39",
   "metadata": {},
   "source": [
    "# G3 - analytical"
   ]
  },
  {
   "cell_type": "code",
   "execution_count": 15,
   "id": "1615888d",
   "metadata": {},
   "outputs": [],
   "source": [
    "g3a = np.zeros(N, dtype=np.complex128)\n",
    "g3a = T0/2 * np.exp(-T0*abs(w3))*2*np.pi"
   ]
  },
  {
   "cell_type": "code",
   "execution_count": 16,
   "id": "05332e21",
   "metadata": {
    "tags": []
   },
   "outputs": [
    {
     "data": {
      "application/vnd.jupyter.widget-view+json": {
       "model_id": "8aca28c2506d463399442cf9623d71df",
       "version_major": 2,
       "version_minor": 0
      },
      "text/plain": [
       "Canvas(toolbar=Toolbar(toolitems=[('Home', 'Reset original view', 'home', 'home'), ('Back', 'Back to previous …"
      ]
     },
     "metadata": {},
     "output_type": "display_data"
    }
   ],
   "source": [
    "fig, ax = figure('f3, g3', 1, 2, figsize=(15, 5))\n",
    "\n",
    "ax[0].plot(w3, g3.real)\n",
    "ax[0].plot(w3, g3a.real, 'k--')\n",
    "\n",
    "ax[1].plot(w3, g3.imag)\n",
    "ax[1].plot(w3, g3a.imag, 'k--')\n",
    "\n",
    "for i in range(2):\n",
    "    ax[i].set_xlim([-20, 20])"
   ]
  },
  {
   "cell_type": "code",
   "execution_count": null,
   "id": "9012fc99",
   "metadata": {},
   "outputs": [],
   "source": []
  },
  {
   "cell_type": "code",
   "execution_count": null,
   "id": "4e7bf5b3",
   "metadata": {},
   "outputs": [],
   "source": []
  }
 ],
 "metadata": {
  "kernelspec": {
   "display_name": "Python 3 (ipykernel)",
   "language": "python",
   "name": "python3"
  },
  "language_info": {
   "codemirror_mode": {
    "name": "ipython",
    "version": 3
   },
   "file_extension": ".py",
   "mimetype": "text/x-python",
   "name": "python",
   "nbconvert_exporter": "python",
   "pygments_lexer": "ipython3",
   "version": "3.9.7"
  }
 },
 "nbformat": 4,
 "nbformat_minor": 5
}
