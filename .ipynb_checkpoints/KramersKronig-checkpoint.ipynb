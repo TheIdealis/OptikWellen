{
 "cells": [
  {
   "cell_type": "code",
   "execution_count": 1,
   "metadata": {},
   "outputs": [],
   "source": [
    "%matplotlib ipympl\n",
    "def figure(name, *args, **kwargs):\n",
    "    plt.close(name)\n",
    "    plt.figure(name, *args, **kwargs)\n",
    "\n",
    "import numpy as np\n",
    "import pylab as plt\n",
    "plt.style.use('default')"
   ]
  },
  {
   "cell_type": "code",
   "execution_count": 2,
   "metadata": {},
   "outputs": [],
   "source": [
    "from scipy.integrate import trapz\n",
    "import warnings\n",
    "warnings.filterwarnings('ignore')"
   ]
  },
  {
   "cell_type": "code",
   "execution_count": 3,
   "metadata": {},
   "outputs": [],
   "source": [
    "ws = np.linspace(0, 21, 501)\n",
    "w0 = 4\n",
    "def chi(gamma):\n",
    "    return 1/(w0**2 - ws**2 - 1j*gamma*ws)"
   ]
  },
  {
   "cell_type": "code",
   "execution_count": 4,
   "metadata": {},
   "outputs": [],
   "source": [
    "def re2im(re, w):\n",
    "    func = re / (ws**2 - w**2)\n",
    "    func[np.isinf(func)] = 0\n",
    "    func[np.isnan(func)] = 0\n",
    "    im =  -2/np.pi * w * trapz(func, ws)\n",
    "    return im\n",
    "\n",
    "def im2re(im, w):\n",
    "    func = ws * im / (ws**2 - w**2)\n",
    "    func[np.isinf(func)] = 0\n",
    "    func[np.isnan(func)] = 0\n",
    "    re =  2/np.pi * trapz(func, ws)\n",
    "    return re"
   ]
  },
  {
   "cell_type": "code",
   "execution_count": 5,
   "metadata": {},
   "outputs": [],
   "source": [
    "import ipywidgets as widgets\n",
    "from ipywidgets import interact"
   ]
  },
  {
   "cell_type": "code",
   "execution_count": 6,
   "metadata": {},
   "outputs": [
    {
     "data": {
      "application/vnd.jupyter.widget-view+json": {
       "model_id": "b46caa3d6d40462e8f6cd91fa5188ff8",
       "version_major": 2,
       "version_minor": 0
      },
      "text/plain": [
       "FigureCanvasNbAgg()"
      ]
     },
     "metadata": {},
     "output_type": "display_data"
    },
    {
     "data": {
      "application/vnd.jupyter.widget-view+json": {
       "model_id": "e21f384f41864869b129cc6e37ba881b",
       "version_major": 2,
       "version_minor": 0
      },
      "text/plain": [
       "interactive(children=(FloatSlider(value=0.5, description='gamma', layout=Layout(width='500px'), max=12.0), Out…"
      ]
     },
     "metadata": {},
     "output_type": "display_data"
    },
    {
     "data": {
      "text/plain": [
       "<function __main__.plot(gamma)>"
      ]
     },
     "execution_count": 6,
     "metadata": {},
     "output_type": "execute_result"
    }
   ],
   "source": [
    "figure(1)\n",
    "\n",
    "ax = plt.subplot(111)\n",
    "\n",
    "def plot(gamma):\n",
    "    ax.clear()\n",
    "    im = [re2im(np.real(chi(gamma)), w) for w in ws]\n",
    "    re = [im2re(np.imag(chi(gamma)), w) for w in ws]\n",
    "    ax.plot(ws, np.real(chi(gamma)), label='real')\n",
    "    ax.plot(ws, np.imag(chi(gamma)), label='imag')\n",
    "    plt.plot(ws, im, 'k--', label='reconstructed')\n",
    "    plt.plot(ws, re, 'k--')\n",
    "   \n",
    "    ax.legend()\n",
    "    ax.set_xlabel('$\\omega$')\n",
    "    ax.set_ylabel('$\\chi(\\omega)$')\n",
    "    ax.set_xlim([0, 8])\n",
    "    \n",
    "slider = widgets.FloatSlider(\n",
    "    value=.5,\n",
    "    min=0,\n",
    "    max=3 * w0,\n",
    "    step=0.1,\n",
    "    readout=True,\n",
    "    readout_format='.2f',\n",
    "    layout={'width': '500px'}\n",
    ")\n",
    "interact(plot, gamma=slider)"
   ]
  },
  {
   "cell_type": "markdown",
   "metadata": {},
   "source": [
    "## Exercise 3"
   ]
  },
  {
   "cell_type": "code",
   "execution_count": 7,
   "metadata": {},
   "outputs": [
    {
     "data": {
      "application/vnd.jupyter.widget-view+json": {
       "model_id": "7f2b16cfe54548859178a0f0a93c1708",
       "version_major": 2,
       "version_minor": 0
      },
      "text/plain": [
       "FigureCanvasNbAgg()"
      ]
     },
     "metadata": {},
     "output_type": "display_data"
    },
    {
     "data": {
      "text/plain": [
       "(0, 7)"
      ]
     },
     "execution_count": 7,
     "metadata": {},
     "output_type": "execute_result"
    }
   ],
   "source": [
    "figure(2)\n",
    "\n",
    "wm = 2\n",
    "wp = 5\n",
    "chi2 = np.zeros(len(ws))\n",
    "dom = np.logical_and(ws > wm, ws < wp)\n",
    "chi2[dom] = 1\n",
    "\n",
    "re2 = [im2re(chi2, w) for w in ws]\n",
    "re_ana = np.zeros(len(ws))\n",
    "re_ana = 1/np.pi * np.log(abs((wp**2 - ws**2)/(wm**2 - ws**2)))\n",
    "\n",
    "plt.plot(ws, chi2)\n",
    "plt.plot(ws, re2)\n",
    "plt.plot(ws, re_ana, 'k--')\n",
    "plt.xlim([0, 7])"
   ]
  },
  {
   "cell_type": "code",
   "execution_count": null,
   "metadata": {},
   "outputs": [],
   "source": []
  }
 ],
 "metadata": {
  "kernelspec": {
   "display_name": "Python 3",
   "language": "python",
   "name": "python3"
  },
  "language_info": {
   "codemirror_mode": {
    "name": "ipython",
    "version": 3
   },
   "file_extension": ".py",
   "mimetype": "text/x-python",
   "name": "python",
   "nbconvert_exporter": "python",
   "pygments_lexer": "ipython3",
   "version": "3.6.7"
  }
 },
 "nbformat": 4,
 "nbformat_minor": 2
}
