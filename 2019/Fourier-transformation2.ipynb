{
 "cells": [
  {
   "cell_type": "code",
   "execution_count": 1,
   "metadata": {},
   "outputs": [],
   "source": [
    "%matplotlib ipympl\n",
    "def figure(name, *args, **kwargs):\n",
    "    plt.close(name)\n",
    "    plt.figure(name, *args, **kwargs)\n",
    "\n",
    "import numpy as np\n",
    "import pylab as plt\n",
    "from scipy.fftpack import fft, fftfreq, fftshift, ifft, ifftshift\n",
    "plt.style.use('default')"
   ]
  },
  {
   "cell_type": "markdown",
   "metadata": {},
   "source": [
    "## Parameter"
   ]
  },
  {
   "cell_type": "code",
   "execution_count": 2,
   "metadata": {},
   "outputs": [],
   "source": [
    "f = 1e3 # 1kHz\n",
    "N = 1000 # sampling points\n",
    "# Domain of the signal\n",
    "t = np.linspace(0, 10, N) * 1e-3 \n",
    "u0 = 1\n",
    "\n",
    "# signal\n",
    "u = u0 * np.sin(2*np.pi*f*t)"
   ]
  },
  {
   "cell_type": "code",
   "execution_count": 3,
   "metadata": {},
   "outputs": [
    {
     "data": {
      "application/vnd.jupyter.widget-view+json": {
       "model_id": "3c248354cf2641dda236b7acc4611300",
       "version_major": 2,
       "version_minor": 0
      },
      "text/plain": [
       "FigureCanvasNbAgg()"
      ]
     },
     "metadata": {},
     "output_type": "display_data"
    },
    {
     "data": {
      "text/plain": [
       "Text(0.5, 0, '$t$ in s')"
      ]
     },
     "execution_count": 3,
     "metadata": {},
     "output_type": "execute_result"
    }
   ],
   "source": [
    "figure(1, figsize=(7,4))\n",
    "plt.plot(t, u)\n",
    "plt.ylabel('$u(t)$')\n",
    "plt.xlabel('$t$ in s')"
   ]
  },
  {
   "cell_type": "code",
   "execution_count": 4,
   "metadata": {},
   "outputs": [],
   "source": [
    "u_w = abs(fft(u))\n",
    "w = fftfreq(N, d=t[1]-t[0])"
   ]
  },
  {
   "cell_type": "code",
   "execution_count": 5,
   "metadata": {},
   "outputs": [
    {
     "data": {
      "application/vnd.jupyter.widget-view+json": {
       "model_id": "fae59fdf24ff439a95a32546a96dfca0",
       "version_major": 2,
       "version_minor": 0
      },
      "text/plain": [
       "FigureCanvasNbAgg()"
      ]
     },
     "metadata": {},
     "output_type": "display_data"
    },
    {
     "data": {
      "text/plain": [
       "Text(0.5, 0, '$f$ in Hz')"
      ]
     },
     "execution_count": 5,
     "metadata": {},
     "output_type": "execute_result"
    }
   ],
   "source": [
    "figure(2, figsize=(7,4))\n",
    "plt.plot(w[0:50], u_w[0:50])\n",
    "plt.ylabel('$\\\\tilde u(f)$')\n",
    "plt.xlabel('$f$ in Hz')"
   ]
  },
  {
   "cell_type": "markdown",
   "metadata": {},
   "source": [
    "We just got the fft of a sin with an infinite amount of oszillations. Why? The dft is periodic and that means, we have to create a padding at the corners."
   ]
  },
  {
   "cell_type": "markdown",
   "metadata": {},
   "source": [
    "## FFT with padding"
   ]
  },
  {
   "cell_type": "code",
   "execution_count": 6,
   "metadata": {},
   "outputs": [],
   "source": [
    "t_p = np.linspace(-20, 30, N) * 1e-3 \n",
    "t_signal = np.logical_and(t_p >= 0, t_p < 1e-2)\n",
    "u_p = np.zeros(N)\n",
    "u_p[t_signal] = u0 * np.sin(2*np.pi*f*t_p[t_signal])"
   ]
  },
  {
   "cell_type": "code",
   "execution_count": 7,
   "metadata": {},
   "outputs": [
    {
     "data": {
      "application/vnd.jupyter.widget-view+json": {
       "model_id": "5ada4274921340bb9f26dc13a0e2631e",
       "version_major": 2,
       "version_minor": 0
      },
      "text/plain": [
       "FigureCanvasNbAgg()"
      ]
     },
     "metadata": {},
     "output_type": "display_data"
    },
    {
     "data": {
      "text/plain": [
       "Text(0.5, 0, '$t$ in s')"
      ]
     },
     "execution_count": 7,
     "metadata": {},
     "output_type": "execute_result"
    }
   ],
   "source": [
    "figure(3, figsize=(7,4))\n",
    "plt.plot(t_p, u_p)\n",
    "plt.ylabel('$u(t)$')\n",
    "plt.xlabel('$t$ in s')"
   ]
  },
  {
   "cell_type": "code",
   "execution_count": 8,
   "metadata": {},
   "outputs": [],
   "source": [
    "u_wp = fftshift(abs(fft(u_p)))\n",
    "w_p = fftshift(fftfreq(N, d=t_p[1]-t_p[0]))"
   ]
  },
  {
   "cell_type": "code",
   "execution_count": 9,
   "metadata": {},
   "outputs": [
    {
     "data": {
      "application/vnd.jupyter.widget-view+json": {
       "model_id": "78c9ba541ba94893b85ac05eee1cd372",
       "version_major": 2,
       "version_minor": 0
      },
      "text/plain": [
       "FigureCanvasNbAgg()"
      ]
     },
     "metadata": {},
     "output_type": "display_data"
    },
    {
     "data": {
      "text/plain": [
       "Text(0.5, 0, '$f/f_0$')"
      ]
     },
     "execution_count": 9,
     "metadata": {},
     "output_type": "execute_result"
    }
   ],
   "source": [
    "figure(4, figsize=(7,4))\n",
    "plt.plot(w_p/f, u_wp)\n",
    "plt.ylabel('$\\\\tilde u(f)$')\n",
    "plt.xlabel('$f/f_0$')\n",
    "# plt.xlim([-2.5, 2.5])"
   ]
  },
  {
   "cell_type": "markdown",
   "metadata": {},
   "source": [
    "## Analytical solution"
   ]
  },
  {
   "cell_type": "code",
   "execution_count": 10,
   "metadata": {},
   "outputs": [],
   "source": [
    "f_a = np.linspace(-16000, 16000, 5000)\n",
    "u_a = - np.e**(10 * 1j * np.pi * f_a/f) / (2*np.pi**2 * 1j)\n",
    "u_a *= np.sin(10*np.pi * f_a/f) * f / (f_a**2 - f**2)"
   ]
  },
  {
   "cell_type": "code",
   "execution_count": 11,
   "metadata": {},
   "outputs": [
    {
     "data": {
      "application/vnd.jupyter.widget-view+json": {
       "model_id": "d20d4c1d11954886b8eaaf4a7e4956a0",
       "version_major": 2,
       "version_minor": 0
      },
      "text/plain": [
       "FigureCanvasNbAgg()"
      ]
     },
     "metadata": {},
     "output_type": "display_data"
    },
    {
     "data": {
      "text/plain": [
       "(-2.5, 2.5)"
      ]
     },
     "execution_count": 11,
     "metadata": {},
     "output_type": "execute_result"
    }
   ],
   "source": [
    "figure(45, figsize=(7,4))\n",
    "plt.plot(f_a/f, abs(u_a)/np.max(abs(u_a)))\n",
    "plt.plot(w_p/f, u_wp/ np.max(u_wp), 'k--')\n",
    "plt.ylabel('$\\\\tilde u(f)$')\n",
    "plt.xlabel('$f/f_0$')\n",
    "plt.xlim([-2.5, 2.5])"
   ]
  },
  {
   "cell_type": "markdown",
   "metadata": {},
   "source": [
    "## Back transformation"
   ]
  },
  {
   "cell_type": "markdown",
   "metadata": {},
   "source": [
    "Now, we want to select a window in the spectrum and calculate the back transformation to verify that including the first root is really enough to reconstruct the rectangular shape."
   ]
  },
  {
   "cell_type": "code",
   "execution_count": 12,
   "metadata": {},
   "outputs": [],
   "source": [
    "import ipywidgets as widgets\n",
    "from ipywidgets import interact"
   ]
  },
  {
   "cell_type": "code",
   "execution_count": 13,
   "metadata": {},
   "outputs": [
    {
     "data": {
      "application/vnd.jupyter.widget-view+json": {
       "model_id": "eb3b1083a10e41f998f9318feb443861",
       "version_major": 2,
       "version_minor": 0
      },
      "text/plain": [
       "FigureCanvasNbAgg()"
      ]
     },
     "metadata": {},
     "output_type": "display_data"
    },
    {
     "data": {
      "application/vnd.jupyter.widget-view+json": {
       "model_id": "b41de749dbf6416d947d25f1c35bdae3",
       "version_major": 2,
       "version_minor": 0
      },
      "text/plain": [
       "interactive(children=(FloatSlider(value=3.0, description='x', layout=Layout(width='500px'), max=3.0, step=0.01…"
      ]
     },
     "metadata": {},
     "output_type": "display_data"
    }
   ],
   "source": [
    "figure(5, figsize=(12,4))\n",
    "ax = plt.subplot(121)\n",
    "ax2 = plt.subplot(122)\n",
    "\n",
    "u_part = fft(u_p)\n",
    "w_part = fftfreq(len(u_p), d=t_p[1]-t_p[0])/f\n",
    "\n",
    "def plot_func(x, y):\n",
    "    ax.clear()\n",
    "    ax2.clear()\n",
    "    lims = np.logical_or(abs(w_part) > x, abs(w_part) < y)\n",
    "    u_temp = u_part.copy()\n",
    "    u_temp[lims] = 0\n",
    "    \n",
    "    ax.plot(fftshift(w_part), fftshift(abs(u_temp)))\n",
    "\n",
    "    u = np.real(ifft(u_temp))\n",
    "    ax2.plot(t_p, u)\n",
    "    \n",
    "    ax.set_xlim([-3., 3.])\n",
    "    \n",
    "slider = widgets.FloatSlider(\n",
    "    value=3.,\n",
    "    min=0,\n",
    "    max=3.,\n",
    "    step=0.01,\n",
    "    readout=True,\n",
    "    readout_format='.2f',\n",
    "    layout={'width': '500px'}\n",
    ")\n",
    "slider2 = widgets.FloatSlider(\n",
    "    value=0,\n",
    "    min=0,\n",
    "    max=3.,\n",
    "    step=0.01,\n",
    "    readout=True,\n",
    "    readout_format='.2f',\n",
    "    layout={'width': '500px'}\n",
    ")\n",
    "interact(plot_func, x=slider, y=slider2);"
   ]
  },
  {
   "cell_type": "markdown",
   "metadata": {},
   "source": [
    "## Validity for general signals in a rectangular pulse"
   ]
  },
  {
   "cell_type": "code",
   "execution_count": 14,
   "metadata": {},
   "outputs": [],
   "source": [
    "u_pv = np.zeros(N)\n",
    "u_pv[t_signal] = u0 * (np.random.random(len(t_p[t_signal])) - 0.5)"
   ]
  },
  {
   "cell_type": "code",
   "execution_count": 15,
   "metadata": {},
   "outputs": [
    {
     "data": {
      "application/vnd.jupyter.widget-view+json": {
       "model_id": "f61025b4ed754943bdf9ccc0953b8ac6",
       "version_major": 2,
       "version_minor": 0
      },
      "text/plain": [
       "FigureCanvasNbAgg()"
      ]
     },
     "metadata": {},
     "output_type": "display_data"
    },
    {
     "data": {
      "text/plain": [
       "Text(0.5, 0, '$t$ in s')"
      ]
     },
     "execution_count": 15,
     "metadata": {},
     "output_type": "execute_result"
    }
   ],
   "source": [
    "figure(32, figsize=(7,4))\n",
    "plt.plot(t_p, u_pv)\n",
    "plt.ylabel('$u(t)$')\n",
    "plt.xlabel('$t$ in s')"
   ]
  },
  {
   "cell_type": "code",
   "execution_count": 16,
   "metadata": {},
   "outputs": [
    {
     "data": {
      "application/vnd.jupyter.widget-view+json": {
       "model_id": "728a020861724139bdb6466dd3136b3f",
       "version_major": 2,
       "version_minor": 0
      },
      "text/plain": [
       "FigureCanvasNbAgg()"
      ]
     },
     "metadata": {},
     "output_type": "display_data"
    },
    {
     "data": {
      "application/vnd.jupyter.widget-view+json": {
       "model_id": "26182f3fa9e344e89a5bbe694369fe3b",
       "version_major": 2,
       "version_minor": 0
      },
      "text/plain": [
       "interactive(children=(FloatSlider(value=3.0, description='x', layout=Layout(width='500px'), max=3.0, step=0.01…"
      ]
     },
     "metadata": {},
     "output_type": "display_data"
    }
   ],
   "source": [
    "figure(52, figsize=(12,4))\n",
    "ax = plt.subplot(121)\n",
    "ax2 = plt.subplot(122)\n",
    "\n",
    "u_partv = fft(u_pv)\n",
    "\n",
    "def plot_func(x, y):\n",
    "    ax.clear()\n",
    "    ax2.clear()\n",
    "    lims = np.logical_or(abs(w_part) > x, abs(w_part) < y)\n",
    "    u_temp = u_partv.copy()\n",
    "    u_temp[lims] = 0\n",
    "    \n",
    "    ax.plot(fftshift(w_part), fftshift(abs(u_temp)))\n",
    "\n",
    "    u = np.real(ifft(u_temp))\n",
    "    ax2.plot(t_p, u)\n",
    "    \n",
    "    ax.set_xlim([-3., 3.])\n",
    "    \n",
    "slider = widgets.FloatSlider(\n",
    "    value=3.,\n",
    "    min=0,\n",
    "    max=3.,\n",
    "    step=0.01,\n",
    "    readout=True,\n",
    "    readout_format='.2f',\n",
    "    layout={'width': '500px'}\n",
    ")\n",
    "slider2 = widgets.FloatSlider(\n",
    "    value=0,\n",
    "    min=0,\n",
    "    max=3.,\n",
    "    step=0.01,\n",
    "    readout=True,\n",
    "    readout_format='.2f',\n",
    "    layout={'width': '500px'}\n",
    ")\n",
    "interact(plot_func, x=slider, y=slider2);"
   ]
  },
  {
   "cell_type": "markdown",
   "metadata": {},
   "source": [
    "This almost works, but the signal is centered around zero. It's better"
   ]
  },
  {
   "cell_type": "code",
   "execution_count": 17,
   "metadata": {},
   "outputs": [],
   "source": [
    "u_pv2 = np.zeros(N)\n",
    "\n",
    "# Amount of random sin functions\n",
    "N_sin = 8\n",
    "coeffs = np.random.random(N_sin)\n",
    "freqs = (2 * 1e3 - 5*1e2) * np.random.random(N_sin) + 5*1e2\n",
    "u_pv2[t_signal] = u0 * coeffs.dot([np.sin(2*np.pi*fi*t_p[t_signal]) for fi in freqs])"
   ]
  },
  {
   "cell_type": "code",
   "execution_count": 18,
   "metadata": {},
   "outputs": [
    {
     "data": {
      "application/vnd.jupyter.widget-view+json": {
       "model_id": "ce99790e8f3f4730ab4b1bfc6dd1627d",
       "version_major": 2,
       "version_minor": 0
      },
      "text/plain": [
       "FigureCanvasNbAgg()"
      ]
     },
     "metadata": {},
     "output_type": "display_data"
    },
    {
     "data": {
      "text/plain": [
       "Text(0.5, 0, '$t$ in s')"
      ]
     },
     "execution_count": 18,
     "metadata": {},
     "output_type": "execute_result"
    }
   ],
   "source": [
    "figure(33, figsize=(7,4))\n",
    "plt.plot(t_p, u_pv2)\n",
    "plt.ylabel('$u(t)$')\n",
    "plt.xlabel('$t$ in s')"
   ]
  },
  {
   "cell_type": "code",
   "execution_count": 19,
   "metadata": {},
   "outputs": [
    {
     "data": {
      "application/vnd.jupyter.widget-view+json": {
       "model_id": "abf1fe60a50049f9bdb66f8d5741ecc3",
       "version_major": 2,
       "version_minor": 0
      },
      "text/plain": [
       "FigureCanvasNbAgg()"
      ]
     },
     "metadata": {},
     "output_type": "display_data"
    },
    {
     "data": {
      "application/vnd.jupyter.widget-view+json": {
       "model_id": "5a4ba16026fa4e5aae70aa402c33c29d",
       "version_major": 2,
       "version_minor": 0
      },
      "text/plain": [
       "interactive(children=(FloatSlider(value=3.0, description='x', layout=Layout(width='500px'), max=3.0, step=0.01…"
      ]
     },
     "metadata": {},
     "output_type": "display_data"
    }
   ],
   "source": [
    "figure(53, figsize=(12,4))\n",
    "ax = plt.subplot(121)\n",
    "ax2 = plt.subplot(122)\n",
    "\n",
    "u_partv2 = fft(u_pv2)\n",
    "\n",
    "def plot_func(x, y):\n",
    "    ax.clear()\n",
    "    ax2.clear()\n",
    "    lims = np.logical_or(abs(w_part) > x, abs(w_part) < y)\n",
    "    u_temp = u_partv2.copy()\n",
    "    u_temp[lims] = 0\n",
    "    \n",
    "    ax.plot(fftshift(w_part), fftshift(abs(u_temp)))\n",
    "\n",
    "    u = np.real(ifft(u_temp))\n",
    "    ax2.plot(t_p, u)\n",
    "    \n",
    "    ax.set_xlim([-3., 3.])\n",
    "    \n",
    "slider = widgets.FloatSlider(\n",
    "    value=3.,\n",
    "    min=0,\n",
    "    max=3.,\n",
    "    step=0.01,\n",
    "    readout=True,\n",
    "    readout_format='.2f',\n",
    "    layout={'width': '500px'}\n",
    ")\n",
    "slider2 = widgets.FloatSlider(\n",
    "    value=0,\n",
    "    min=0,\n",
    "    max=3.,\n",
    "    step=0.01,\n",
    "    readout=True,\n",
    "    readout_format='.2f',\n",
    "    layout={'width': '500px'}\n",
    ")\n",
    "interact(plot_func, x=slider, y=slider2);"
   ]
  },
  {
   "cell_type": "code",
   "execution_count": null,
   "metadata": {},
   "outputs": [],
   "source": []
  }
 ],
 "metadata": {
  "kernelspec": {
   "display_name": "Python 3",
   "language": "python",
   "name": "python3"
  },
  "language_info": {
   "codemirror_mode": {
    "name": "ipython",
    "version": 3
   },
   "file_extension": ".py",
   "mimetype": "text/x-python",
   "name": "python",
   "nbconvert_exporter": "python",
   "pygments_lexer": "ipython3",
   "version": "3.6.7"
  }
 },
 "nbformat": 4,
 "nbformat_minor": 2
}
