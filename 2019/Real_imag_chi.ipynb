{
 "cells": [
  {
   "cell_type": "code",
   "execution_count": 1,
   "metadata": {},
   "outputs": [],
   "source": [
    "%matplotlib ipympl\n",
    "def figure(name, *args, **kwargs):\n",
    "    plt.close(name)\n",
    "    plt.figure(name, *args, **kwargs)\n",
    "\n",
    "import numpy as np\n",
    "import pylab as plt\n",
    "plt.style.use('default')"
   ]
  },
  {
   "cell_type": "code",
   "execution_count": 2,
   "metadata": {},
   "outputs": [],
   "source": [
    "omega = np.linspace(-10, 10, 200)\n",
    "om0 = 4\n",
    "def chi(gamma):\n",
    "    return 1/(om0**2 - omega**2 - 1j*gamma*omega)"
   ]
  },
  {
   "cell_type": "code",
   "execution_count": 3,
   "metadata": {},
   "outputs": [],
   "source": [
    "import ipywidgets as widgets\n",
    "from ipywidgets import interact"
   ]
  },
  {
   "cell_type": "code",
   "execution_count": 4,
   "metadata": {},
   "outputs": [
    {
     "data": {
      "application/vnd.jupyter.widget-view+json": {
       "model_id": "e08b4590d1ba46b89751d828405fafc6",
       "version_major": 2,
       "version_minor": 0
      },
      "text/plain": [
       "FigureCanvasNbAgg()"
      ]
     },
     "metadata": {},
     "output_type": "display_data"
    },
    {
     "data": {
      "application/vnd.jupyter.widget-view+json": {
       "model_id": "d60a78dc40184367bbb8beacd1e4234a",
       "version_major": 2,
       "version_minor": 0
      },
      "text/plain": [
       "interactive(children=(FloatSlider(value=0.5, description='gamma', layout=Layout(width='500px'), max=12.0), Out…"
      ]
     },
     "metadata": {},
     "output_type": "display_data"
    },
    {
     "data": {
      "text/plain": [
       "<function __main__.plot(gamma)>"
      ]
     },
     "execution_count": 4,
     "metadata": {},
     "output_type": "execute_result"
    }
   ],
   "source": [
    "figure(1, figsize=(7,4))\n",
    "ax = plt.subplot(111)\n",
    "\n",
    "def plot(gamma):\n",
    "    ax.clear()\n",
    "    ax.plot(omega, np.real(chi(gamma)), label='real')\n",
    "    ax.plot(omega, np.imag(chi(gamma)), label='imag')\n",
    "    ax.legend()\n",
    "    ax.set_xlabel('$\\omega$')\n",
    "    ax.set_ylabel('$\\chi(\\omega)$')\n",
    "\n",
    "    \n",
    "slider = widgets.FloatSlider(\n",
    "    value=.5,\n",
    "    min=0,\n",
    "    max=3 * om0,\n",
    "    step=0.1,\n",
    "    readout=True,\n",
    "    readout_format='.2f',\n",
    "    layout={'width': '500px'}\n",
    ")\n",
    "interact(plot, gamma=slider)"
   ]
  },
  {
   "cell_type": "markdown",
   "metadata": {},
   "source": [
    "## Exercise 3"
   ]
  },
  {
   "cell_type": "code",
   "execution_count": 5,
   "metadata": {},
   "outputs": [],
   "source": [
    "t = np.linspace(0, 5 * 2 * np.pi / om0, 200)\n",
    "E = np.exp(-1j * om0 * t)"
   ]
  },
  {
   "cell_type": "code",
   "execution_count": 6,
   "metadata": {},
   "outputs": [
    {
     "data": {
      "application/vnd.jupyter.widget-view+json": {
       "model_id": "52cfefba6eab4dbe915e446011d23be1",
       "version_major": 2,
       "version_minor": 0
      },
      "text/plain": [
       "FigureCanvasNbAgg()"
      ]
     },
     "metadata": {},
     "output_type": "display_data"
    },
    {
     "data": {
      "application/vnd.jupyter.widget-view+json": {
       "model_id": "d96a71d1864547329f50575f08558321",
       "version_major": 2,
       "version_minor": 0
      },
      "text/plain": [
       "interactive(children=(FloatSlider(value=1.0, description='real', layout=Layout(width='500px'), max=3.0, min=-1…"
      ]
     },
     "metadata": {},
     "output_type": "display_data"
    },
    {
     "data": {
      "text/plain": [
       "<function __main__.plot(real, imag)>"
      ]
     },
     "execution_count": 6,
     "metadata": {},
     "output_type": "execute_result"
    }
   ],
   "source": [
    "figure(2, figsize=(7,4))\n",
    "ax = plt.subplot(111)\n",
    "\n",
    "def plot(real, imag):\n",
    "    ax.clear()\n",
    "    chi = real + 1j * imag\n",
    "    ax.plot(t, np.real(E), label='$E(t)$')\n",
    "    ax.plot(t, np.real(chi * E), '--', label='$P(t)$')\n",
    "    ax.legend()\n",
    "    ax.set_xlabel('$t$')\n",
    "    \n",
    "s_real = widgets.FloatSlider(\n",
    "    value=1,\n",
    "    min=-1,\n",
    "    max=3,\n",
    "    step=0.1,\n",
    "    readout=True,\n",
    "    readout_format='.2f',\n",
    "    layout={'width': '500px'}\n",
    ")\n",
    "s_imag = widgets.FloatSlider(\n",
    "    value=.0,\n",
    "    min=-1,\n",
    "    max=3,\n",
    "    step=0.1,\n",
    "    readout=True,\n",
    "    readout_format='.2f',\n",
    "    layout={'width': '500px'}\n",
    ")\n",
    "\n",
    "\n",
    "interact(plot, real=s_real, imag=s_imag)"
   ]
  },
  {
   "cell_type": "code",
   "execution_count": null,
   "metadata": {},
   "outputs": [],
   "source": []
  }
 ],
 "metadata": {
  "kernelspec": {
   "display_name": "Python 3",
   "language": "python",
   "name": "python3"
  },
  "language_info": {
   "codemirror_mode": {
    "name": "ipython",
    "version": 3
   },
   "file_extension": ".py",
   "mimetype": "text/x-python",
   "name": "python",
   "nbconvert_exporter": "python",
   "pygments_lexer": "ipython3",
   "version": "3.6.7"
  }
 },
 "nbformat": 4,
 "nbformat_minor": 2
}
