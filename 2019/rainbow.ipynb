{
 "cells": [
  {
   "cell_type": "code",
   "execution_count": 1,
   "metadata": {},
   "outputs": [],
   "source": [
    "%matplotlib widget\n",
    "def figure(name, *args, **kwargs):\n",
    "    plt.close(name)\n",
    "    plt.figure(name, *args, **kwargs)\n",
    "\n",
    "import numpy as np\n",
    "import pylab as plt\n",
    "from scipy.fftpack import fft, fftfreq, fftshift, ifft, ifftshift\n",
    "plt.style.use('default')"
   ]
  },
  {
   "cell_type": "code",
   "execution_count": 2,
   "metadata": {},
   "outputs": [],
   "source": [
    "import ipywidgets as widgets\n",
    "from ipywidgets import interact\n",
    "from convert_wavelength import wl2color, wl2n"
   ]
  },
  {
   "cell_type": "code",
   "execution_count": 3,
   "metadata": {},
   "outputs": [],
   "source": [
    "def get_rays(a, n=1.333):\n",
    "    if abs(a) >= 1:\n",
    "        return [[[-2, 2], [a, a]]]\n",
    "    x1 = np.sqrt(1 - a**2)\n",
    "    rays = [[[-2, -x1], [a, a]]]\n",
    "    \n",
    "    alpha = np.arcsin(a)\n",
    "    beta = np.arcsin(np.sin(alpha)/n)\n",
    "    gamma = np.pi/2 -alpha + beta\n",
    "    d = 2 * np.cos(beta)\n",
    "    y2 = a - d*np.cos(gamma)\n",
    "    x2 = d * np.sin(gamma) - x1   \n",
    "    rays.append([[-x1, x2], [a, y2]])\n",
    "    \n",
    "    delta = 2*beta - (np.pi/2 - gamma)\n",
    "    y3 = y2 - d*np.sin(delta)\n",
    "    x3 = x2 - d * np.cos(delta)\n",
    "    rays.append([[x2, x3], [y2, y3]])\n",
    "    \n",
    "    tau = 4*beta - 2*alpha\n",
    "    x4 = -2\n",
    "    # not working for small refractive indices\n",
    "    y4 = y3 - (2 - abs(x3)) * np.tan(tau) \n",
    "    rays.append([[x3, x4], [y3, y4]])\n",
    "    \n",
    "    return rays"
   ]
  },
  {
   "cell_type": "code",
   "execution_count": 4,
   "metadata": {},
   "outputs": [
    {
     "data": {
      "application/vnd.jupyter.widget-view+json": {
       "model_id": "9c5620bbb8cc4a2a98d19dad74519f15",
       "version_major": 2,
       "version_minor": 0
      },
      "text/plain": [
       "FigureCanvasNbAgg()"
      ]
     },
     "metadata": {},
     "output_type": "display_data"
    },
    {
     "data": {
      "application/vnd.jupyter.widget-view+json": {
       "model_id": "cd57f54970e24690bfc7d3f70fae690c",
       "version_major": 2,
       "version_minor": 0
      },
      "text/plain": [
       "interactive(children=(FloatSlider(value=0.5, description='a', layout=Layout(width='500px'), max=1.5, min=-1.5,…"
      ]
     },
     "metadata": {},
     "output_type": "display_data"
    }
   ],
   "source": [
    "figure(5, figsize=(5,5))\n",
    "ax = plt.gca()\n",
    "\n",
    "def plot_func(a, n):\n",
    "    ax.clear()\n",
    "    ax.set_xlim([-2., 2.])\n",
    "    ax.set_ylim([-2., 2.])\n",
    "    ax.axis('off')\n",
    "    rays = get_rays(a, n)\n",
    "#     print(rays)\n",
    "    for ray in rays:\n",
    "        plt.plot(ray[0], ray[1], color=wl2color(700))\n",
    "        \n",
    "    x_drop = np.linspace(-1, 1, 100)\n",
    "    plt.fill_between(x_drop, -np.sqrt(1 - x_drop**2), np.sqrt(1 - x_drop**2),\n",
    "                    color='#43a2ca', alpha=0.5)\n",
    "    plt.plot(x_drop, np.sqrt(1 - x_drop**2), 'k-', lw=0.5)\n",
    "    plt.plot(x_drop, -np.sqrt(1 - x_drop**2), 'k-', lw=0.5)\n",
    "        \n",
    "slider = widgets.FloatSlider(\n",
    "    value=0.5,\n",
    "    min=-1.5,\n",
    "    max=1.5,\n",
    "    step=0.03,\n",
    "    readout=True,\n",
    "    readout_format='.2f',\n",
    "    layout={'width': '500px'}\n",
    ")\n",
    "slider2 = widgets.FloatSlider(\n",
    "    value=1.33,\n",
    "    min=1,\n",
    "    max=3.,\n",
    "    step=0.1,\n",
    "    readout=True,\n",
    "    readout_format='.2f',\n",
    "    layout={'width': '500px'}\n",
    ")\n",
    "interact(plot_func, a=slider, n=slider2);"
   ]
  },
  {
   "cell_type": "markdown",
   "metadata": {},
   "source": [
    "## Mix white light"
   ]
  },
  {
   "cell_type": "code",
   "execution_count": 14,
   "metadata": {},
   "outputs": [
    {
     "data": {
      "application/vnd.jupyter.widget-view+json": {
       "model_id": "",
       "version_major": 2,
       "version_minor": 0
      },
      "text/plain": [
       "FigureCanvasNbAgg()"
      ]
     },
     "metadata": {},
     "output_type": "display_data"
    },
    {
     "data": {
      "text/plain": [
       "[<matplotlib.lines.Line2D at 0x7fcbe8456128>]"
      ]
     },
     "execution_count": 14,
     "metadata": {},
     "output_type": "execute_result"
    }
   ],
   "source": [
    "a_s = np.linspace(0., .999, 1000)\n",
    "\n",
    "figure(6, figsize=(5,5))\n",
    "ax = plt.gca()\n",
    "ax.clear()\n",
    "ax.set_xlim([-2., 2.])\n",
    "ax.set_ylim([-2., 2.])\n",
    "ax.axis('off')\n",
    "\n",
    "for a in a_s:\n",
    "    rays = get_rays(a)\n",
    "    for ray in rays:\n",
    "        plt.plot(ray[0], ray[1], color=wl2color(700), alpha=0.02)\n",
    "        \n",
    "x_drop = np.linspace(-1, 1, 100)   \n",
    "# plt.fill_between(x_drop, -np.sqrt(1 - x_drop**2), np.sqrt(1 - x_drop**2),\n",
    "#                 color='#43a2ca', alpha=0.5)\n",
    "plt.plot(x_drop, np.sqrt(1 - x_drop**2), 'k-', lw=0.5)\n",
    "plt.plot(x_drop, -np.sqrt(1 - x_drop**2), 'k-', lw=0.5)\n"
   ]
  },
  {
   "cell_type": "code",
   "execution_count": 15,
   "metadata": {},
   "outputs": [],
   "source": [
    "from itertools import product"
   ]
  },
  {
   "cell_type": "code",
   "execution_count": 18,
   "metadata": {},
   "outputs": [
    {
     "data": {
      "application/vnd.jupyter.widget-view+json": {
       "model_id": "",
       "version_major": 2,
       "version_minor": 0
      },
      "text/plain": [
       "FigureCanvasNbAgg()"
      ]
     },
     "metadata": {},
     "output_type": "display_data"
    },
    {
     "data": {
      "text/plain": [
       "[<matplotlib.lines.Line2D at 0x7fcbdb988208>]"
      ]
     },
     "execution_count": 18,
     "metadata": {},
     "output_type": "execute_result"
    }
   ],
   "source": [
    "a_s = np.linspace(0., .999, 100)\n",
    "wl_s = np.linspace(380, 750, 20)\n",
    "\n",
    "figure(7, figsize=(5,5))\n",
    "ax = plt.gca()\n",
    "ax.clear()\n",
    "ax.set_xlim([-2., 2.])\n",
    "ax.set_ylim([-2., 2.])\n",
    "ax.axis('off')\n",
    "\n",
    "for a, wl in product(a_s, wl_s):\n",
    "    rays = get_rays(a, wl2n(wl))\n",
    "    for ray in rays:\n",
    "        plt.plot(ray[0], ray[1], color=wl2color(wl), alpha=.02)\n",
    "        \n",
    "x_drop = np.linspace(-1, 1, 100)   \n",
    "# plt.fill_between(x_drop, -np.sqrt(1 - x_drop**2), np.sqrt(1 - x_drop**2),\n",
    "#                 color='#43a2ca', alpha=0.5)\n",
    "plt.plot(x_drop, np.sqrt(1 - x_drop**2), 'k-', lw=0.5)\n",
    "plt.plot(x_drop, -np.sqrt(1 - x_drop**2), 'k-', lw=0.5)"
   ]
  },
  {
   "cell_type": "code",
   "execution_count": 1,
   "metadata": {},
   "outputs": [],
   "source": [
    "from mplcairo import operator_t"
   ]
  },
  {
   "cell_type": "code",
   "execution_count": null,
   "metadata": {},
   "outputs": [],
   "source": [
    "operator_t.ADD."
   ]
  }
 ],
 "metadata": {
  "kernelspec": {
   "display_name": "Python 3",
   "language": "python",
   "name": "python3"
  },
  "language_info": {
   "codemirror_mode": {
    "name": "ipython",
    "version": 3
   },
   "file_extension": ".py",
   "mimetype": "text/x-python",
   "name": "python",
   "nbconvert_exporter": "python",
   "pygments_lexer": "ipython3",
   "version": "3.7.10"
  }
 },
 "nbformat": 4,
 "nbformat_minor": 4
}
